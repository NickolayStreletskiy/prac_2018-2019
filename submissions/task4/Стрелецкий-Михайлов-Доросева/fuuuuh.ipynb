{
 "cells": [
  {
   "cell_type": "code",
   "execution_count": 39,
   "metadata": {},
   "outputs": [],
   "source": [
    "import pandas as pd\n",
    "import numpy as np\n",
    "import csv\n",
    "results = []"
   ]
  },
  {
   "cell_type": "code",
   "execution_count": 40,
   "metadata": {},
   "outputs": [],
   "source": [
    "def function(supply1, inventory1, sell1):\n",
    "    supply = pd.read_csv(supply1)\n",
    "    inventory = pd.read_csv(inventory1)\n",
    "    sell = pd.read_csv(sell1)\n",
    "    state = sell.sku_num[0][:2]\n",
    "    shopn = sell.sku_num[0][3:5]\n",
    "    file_name = 'out_answer_' + state + '_' + shopn + '-steal.csv'\n",
    "    output_file = open(file_name, \"w\")\n",
    "    file_name = 'out_answer_' + state + '_' + shopn + '-daily.csv'\n",
    "    output_file1 = open(file_name, \"w\")\n",
    "    file_name = 'out_answer_' + state + '_' + shopn + '-soldstolen.csv'\n",
    "    output_file2 = open(file_name, \"w\")\n",
    "    wrtr = csv.writer(output_file1)\n",
    "    wrtr1 = csv.writer(output_file)\n",
    "    wrtr2 = csv.writer(output_file2)\n",
    "    allapples = 0\n",
    "    allpens = 0\n",
    "    wrtr.writerow(['date', 'appl', 'pen'])\n",
    "    wrtr1.writerow(['date', 'appl', 'pen'])\n",
    "    wrtr2.writerow(['year', 'state', 'apple_sold', 'apple_stolen', 'pen_sold', 'pen_stolen'])\n",
    "    \n",
    "    date = '2006-01-01'\n",
    "    curind = 0\n",
    "    finres = pd.DataFrame(columns=['date', 'apple', 'pen'])\n",
    "    begin = 1\n",
    "    for cur in sell.values:\n",
    "        newdate = cur[0]\n",
    "        state = cur[1][0:2]\n",
    "        curthing = cur[1][6:8]\n",
    "        curday = cur[0][8:10]\n",
    "        if begin == 1:\n",
    "            allapples += supply['apple'][curind] \n",
    "            allpens += supply['pen'][curind]\n",
    "            curind += 1\n",
    "            begin = 0;\n",
    "        if ((newdate != date) and (begin == 0)):\n",
    "            curres = pd.DataFrame(columns=['date', 'apple', 'pen'], data=[[date, allapples, allpens]])\n",
    "            finres = finres.append(curres)\n",
    "            wrtr.writerow([date, allapples, allpens])\n",
    "            if ((curday == '01') or (curday == '15')):\n",
    "                allapples += supply['apple'][curind] \n",
    "                allpens += supply['pen'][curind]\n",
    "                curind += 1;\n",
    "            if (curthing == 'ap'):\n",
    "                allapples -= 1\n",
    "            if (curthing == 'pe'):\n",
    "                allpens -= 1\n",
    "        else:\n",
    "            if (curthing == 'ap'):\n",
    "                allapples -= 1\n",
    "            if (curthing == 'pe'):\n",
    "                allpens -= 1\n",
    "        date = newdate\n",
    "    curres = pd.DataFrame(columns=['date', 'apple', 'pen'], data=[[date, allapples, allpens]])\n",
    "    finres = finres.append(curres)\n",
    "    wrtr.writerow([date,allapples,allpens])\n",
    "    alla = 0\n",
    "    allp = 0\n",
    "    finres2 = pd.DataFrame(columns=['date', 'apple', 'pen'])\n",
    "    for cur2 in inventory.values:\n",
    "        newdate = cur2[0]\n",
    "        inva = cur2[1]\n",
    "        invp = cur2[2]\n",
    "        cura = int((finres[finres.date==newdate]).apple)\n",
    "        curp = int((finres[finres.date==newdate]).pen)\n",
    "        montha = cura-alla - inva\n",
    "        monthp = curp-allp - invp\n",
    "        alla += montha\n",
    "        allp += monthp\n",
    "        curres2 = pd.DataFrame(columns=['date', 'apple', 'pen'], data=[[newdate, montha, monthp]])\n",
    "        finres2 = finres2.append(curres2)\n",
    "        wrtr1.writerow([newdate,montha,monthp])\n",
    "    finres3 = pd.DataFrame(columns = ['year', 'state', 'apple_sold', 'apple_stolen', 'pen_sold', 'pen_stolen'])\n",
    "    iii = 0\n",
    "    ap = 0\n",
    "    pe = 0\n",
    "    apst = 0\n",
    "    penst = 0\n",
    "    yeta = 0\n",
    "    yetp = 0\n",
    "    yetsta = 0\n",
    "    yetstp = 0\n",
    "    for j in supply.values:\n",
    "        newdate = j[0]\n",
    "        ap += j[1]\n",
    "        pe += j[2]\n",
    "        if ((iii-23)%24 == 0):\n",
    "            newdate = newdate[:-2]+'31'\n",
    "            apst = int(finres[finres.date == newdate].apple)-int(inventory[inventory.date == newdate].apple) - yetsta\n",
    "            penst = int(finres[finres.date == newdate].pen)-int(inventory[inventory.date == newdate].pen) - yetstp\n",
    "            apsold = yeta + ap - int(finres[finres.date == newdate].apple)\n",
    "            pensold = yetp + pe - int(finres[finres.date == newdate].pen)\n",
    "            ap = 0\n",
    "            pe = 0\n",
    "            yetsta += apst\n",
    "            yetstp += penst\n",
    "            yeta = int(finres[finres.date == newdate].apple)\n",
    "            yetp = int(finres[finres.date == newdate].pen)\n",
    "            year1 = newdate[0:4]\n",
    "            wrtr2.writerow([year1, state, apsold, apst, pensold, penst])\n",
    "            #curres3 = pd.DataFrame(columns=['year', 'state', 'apple_sold', 'apple_stolen', 'pen_sold', 'pen_stolen'], data=[[year1, state, apsold, apst, pensold, penst]])\n",
    "            #finres3 = finres3.append(curres3)\n",
    "        iii+=1\n",
    "    results.append('out_answer_' + state + '_' + shopn + '-soldstolen.csv')\n",
    "    output_file.close()\n",
    "    output_file1.close()\n",
    "    output_file2.close()\n",
    "    return 0"
   ]
  },
  {
   "cell_type": "code",
   "execution_count": 41,
   "metadata": {},
   "outputs": [
    {
     "data": {
      "text/plain": [
       "0"
      ]
     },
     "execution_count": 41,
     "metadata": {},
     "output_type": "execute_result"
    }
   ],
   "source": [
    "function('out_input_MS-b1-supply.csv', 'out_input_MS-b1-inventory.csv', 'out_input_MS-b1-sell.csv')\n",
    "function('out_input_MS-b2-supply.csv', 'out_input_MS-b2-inventory.csv', 'out_input_MS-b2-sell.csv')\n",
    "function('out_input_MS-m1-supply.csv', 'out_input_MS-m1-inventory.csv', 'out_input_MS-m1-sell.csv')\n",
    "function('out_input_MS-m2-supply.csv', 'out_input_MS-m2-inventory.csv', 'out_input_MS-m2-sell.csv')\n",
    "function('out_input_MS-s1-supply.csv', 'out_input_MS-s1-inventory.csv', 'out_input_MS-s1-sell.csv')\n",
    "function('out_input_MS-s2-supply.csv', 'out_input_MS-s2-inventory.csv', 'out_input_MS-s2-sell.csv')\n",
    "function('out_input_MS-s3-supply.csv', 'out_input_MS-s3-inventory.csv', 'out_input_MS-s3-sell.csv')\n",
    "function('out_input_MS-s4-supply.csv', 'out_input_MS-s4-inventory.csv', 'out_input_MS-s4-sell.csv')\n",
    "function('out_input_MS-s5-supply.csv', 'out_input_MS-s5-inventory.csv', 'out_input_MS-s5-sell.csv')"
   ]
  },
  {
   "cell_type": "code",
   "execution_count": 42,
   "metadata": {},
   "outputs": [
    {
     "name": "stdout",
     "output_type": "stream",
     "text": [
      "out_answer_MS_b1-soldstolen.csv\n",
      "out_answer_MS_b2-soldstolen.csv\n",
      "out_answer_MS_m1-soldstolen.csv\n",
      "out_answer_MS_m2-soldstolen.csv\n",
      "out_answer_MS_s1-soldstolen.csv\n",
      "out_answer_MS_s2-soldstolen.csv\n",
      "out_answer_MS_s3-soldstolen.csv\n",
      "out_answer_MS_s4-soldstolen.csv\n",
      "out_answer_MS_s5-soldstolen.csv\n"
     ]
    }
   ],
   "source": [
    "results_files_read = []\n",
    "for i in results:\n",
    "    results_files_read.append(pd.read_csv(i, delimiter=','))\n",
    "    print(i)\n",
    "result = pd.concat(results_files_read)\n",
    "\n",
    "result = result.sort_values(by = ['year', 'state'], ascending=[1, 1])\n",
    "\n",
    "gb = result.groupby(['year', 'state']).sum()\n",
    "\n",
    "gb.to_csv('final.csv', index=True)"
   ]
  },
  {
   "cell_type": "code",
   "execution_count": null,
   "metadata": {},
   "outputs": [],
   "source": []
  }
 ],
 "metadata": {
  "kernelspec": {
   "display_name": "Python 3",
   "language": "python",
   "name": "python3"
  },
  "language_info": {
   "codemirror_mode": {
    "name": "ipython",
    "version": 3
   },
   "file_extension": ".py",
   "mimetype": "text/x-python",
   "name": "python",
   "nbconvert_exporter": "python",
   "pygments_lexer": "ipython3",
   "version": "3.5.2"
  }
 },
 "nbformat": 4,
 "nbformat_minor": 2
}
